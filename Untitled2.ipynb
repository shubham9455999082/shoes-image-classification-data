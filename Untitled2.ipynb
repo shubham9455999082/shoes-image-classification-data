{
 "cells": [
  {
   "cell_type": "markdown",
   "metadata": {},
   "source": [
    "# python scapping images from online platform "
   ]
  },
  {
   "cell_type": "code",
   "execution_count": 5,
   "metadata": {},
   "outputs": [],
   "source": [
    "from urllib import request\n",
    "import requests"
   ]
  },
  {
   "cell_type": "code",
   "execution_count": 6,
   "metadata": {},
   "outputs": [],
   "source": [
    "from selenium import webdriver\n",
    "from bs4 import BeautifulSoup\n",
    "driver = webdriver.Chrome(\"C:\\\\Users\\\\Shubham\\\\Desktop\\\\Topcoder challenges\\\\edge net\\\\chromedriver_win32 (4)\\\\chromedriver\")"
   ]
  },
  {
   "cell_type": "code",
   "execution_count": null,
   "metadata": {},
   "outputs": [],
   "source": []
  },
  {
   "cell_type": "markdown",
   "metadata": {},
   "source": [
    "## for boots"
   ]
  },
  {
   "cell_type": "code",
   "execution_count": 45,
   "metadata": {},
   "outputs": [],
   "source": [
    "num=40\n",
    "d=[]\n",
    "for i in range(1,num+1):\n",
    "    if i==1:\n",
    "        link='https://www.myntra.com/boots?plaEnabled=false'\n",
    "    elif i>1:\n",
    "        link='https://www.myntra.com/boots?p='+str(i)+'&plaEnabled=false'\n",
    "    driver.get(link)\n",
    "    content = driver.page_source\n",
    "    soup = BeautifulSoup(content,'html.parser')\n",
    "    images=soup.findAll('img', attrs={'class':'img-responsive'})\n",
    "    #soup = BeautifulSoup(content, 'html.parser')\n",
    "    for items in images:\n",
    "        d.append(items['src'])\n",
    "    "
   ]
  },
  {
   "cell_type": "code",
   "execution_count": 47,
   "metadata": {},
   "outputs": [
    {
     "data": {
      "text/plain": [
       "396"
      ]
     },
     "execution_count": 47,
     "metadata": {},
     "output_type": "execute_result"
    }
   ],
   "source": [
    "len(d)"
   ]
  },
  {
   "cell_type": "code",
   "execution_count": 48,
   "metadata": {},
   "outputs": [],
   "source": [
    "from urllib import request\n",
    "folder='C:\\\\Users\\\\Shubham\\\\Desktop\\\\Topcoder challenges\\\\edge net\\\\dataset\\\\boot\\\\'\n",
    "for i in range(len(d)):\n",
    "    f = open(folder+str(i)+'.jpg','wb')\n",
    "    f.write(requests.get(d[i]).content)\n",
    "    f.close()"
   ]
  },
  {
   "cell_type": "code",
   "execution_count": 49,
   "metadata": {},
   "outputs": [
    {
     "data": {
      "text/plain": [
       "396"
      ]
     },
     "execution_count": 49,
     "metadata": {},
     "output_type": "execute_result"
    }
   ],
   "source": [
    "len(d)"
   ]
  },
  {
   "cell_type": "markdown",
   "metadata": {},
   "source": [
    "## for sneakers"
   ]
  },
  {
   "cell_type": "code",
   "execution_count": 9,
   "metadata": {},
   "outputs": [],
   "source": [
    "from selenium import webdriver\n",
    "from bs4 import BeautifulSoup\n",
    "driver = webdriver.Chrome(\"C:\\\\Users\\\\Shubham\\\\Desktop\\\\Topcoder challenges\\\\edge net\\\\chromedriver_win32 (4)\\\\chromedriver\")\n",
    "num=40\n",
    "sneakers=[]\n",
    "for i in range(1,num+1):\n",
    "    if i==1:\n",
    "        link='https://www.myntra.com/sneakers?plaEnabled=false'\n",
    "    elif i>1:\n",
    "        link='https://www.myntra.com/sneakers?p='+str(i)+'&plaEnabled=false'\n",
    "    driver.get(link)\n",
    "    content = driver.page_source\n",
    "    soup = BeautifulSoup(content,'html.parser')\n",
    "    images=soup.findAll('img', attrs={'class':'img-responsive'})\n",
    "    #soup = BeautifulSoup(content, 'html.parser')\n",
    "    for items in images:\n",
    "        sneakers.append(items['src'])"
   ]
  },
  {
   "cell_type": "code",
   "execution_count": 10,
   "metadata": {},
   "outputs": [
    {
     "data": {
      "text/plain": [
       "440"
      ]
     },
     "execution_count": 10,
     "metadata": {},
     "output_type": "execute_result"
    }
   ],
   "source": [
    "len(sneakers)"
   ]
  },
  {
   "cell_type": "code",
   "execution_count": 11,
   "metadata": {},
   "outputs": [],
   "source": [
    "folder='C:\\\\Users\\\\Shubham\\\\Desktop\\\\Topcoder challenges\\\\edge net\\\\dataset\\\\sneakers\\\\'\n",
    "for i in range(len(sneakers)):\n",
    "    f = open(folder+str(i)+'.jpg','wb')\n",
    "    f.write(requests.get(sneakers[i]).content)\n",
    "    f.close()"
   ]
  },
  {
   "cell_type": "markdown",
   "metadata": {},
   "source": [
    "## for loafers"
   ]
  },
  {
   "cell_type": "code",
   "execution_count": 12,
   "metadata": {},
   "outputs": [],
   "source": [
    "from selenium import webdriver\n",
    "from bs4 import BeautifulSoup\n",
    "driver = webdriver.Chrome(\"C:\\\\Users\\\\Shubham\\\\Desktop\\\\Topcoder challenges\\\\edge net\\\\chromedriver_win32 (4)\\\\chromedriver\")\n",
    "num=40\n",
    "loafers=[]\n",
    "for i in range(1,num+1):\n",
    "    if i==1:\n",
    "        link='https://www.myntra.com/loafers?plaEnabled=false'\n",
    "    elif i>1:\n",
    "        link='https://www.myntra.com/loafers?p='+str(i)+'&plaEnabled=false'\n",
    "    driver.get(link)\n",
    "    content = driver.page_source\n",
    "    soup = BeautifulSoup(content,'html.parser')\n",
    "    images=soup.findAll('img', attrs={'class':'img-responsive'})\n",
    "    #soup = BeautifulSoup(content, 'html.parser')\n",
    "    for items in images:\n",
    "        loafers.append(items['src'])"
   ]
  },
  {
   "cell_type": "code",
   "execution_count": 15,
   "metadata": {},
   "outputs": [
    {
     "data": {
      "text/plain": [
       "477"
      ]
     },
     "execution_count": 15,
     "metadata": {},
     "output_type": "execute_result"
    }
   ],
   "source": [
    "len(loafers)"
   ]
  },
  {
   "cell_type": "code",
   "execution_count": 17,
   "metadata": {},
   "outputs": [],
   "source": [
    "folder='C:\\\\Users\\\\Shubham\\\\Desktop\\\\Topcoder challenges\\\\edge net\\\\dataset\\\\loafers\\\\'\n",
    "for i in range(len(loafers)):\n",
    "    f = open(folder+str(i)+'.jpg','wb')\n",
    "    f.write(requests.get(loafers[i]).content)\n",
    "    f.close()"
   ]
  },
  {
   "cell_type": "markdown",
   "metadata": {},
   "source": [
    "## for sandals"
   ]
  },
  {
   "cell_type": "code",
   "execution_count": 19,
   "metadata": {},
   "outputs": [],
   "source": [
    "from selenium import webdriver\n",
    "from bs4 import BeautifulSoup\n",
    "driver = webdriver.Chrome(\"C:\\\\Users\\\\Shubham\\\\Desktop\\\\Topcoder challenges\\\\edge net\\\\chromedriver_win32 (4)\\\\chromedriver\")\n",
    "num=40\n",
    "sandals=[]\n",
    "for i in range(1,num+1):\n",
    "    if i==1:\n",
    "        link='https://www.myntra.com/sandals?plaEnabled=false'\n",
    "    elif i>1:\n",
    "        link='https://www.myntra.com/sandals?p='+str(i)+'&plaEnabled=false'\n",
    "    driver.get(link)\n",
    "    content = driver.page_source\n",
    "    soup = BeautifulSoup(content,'html.parser')\n",
    "    images=soup.findAll('img', attrs={'class':'img-responsive'})\n",
    "    #soup = BeautifulSoup(content, 'html.parser')\n",
    "    for items in images:\n",
    "        sandals.append(items['src'])"
   ]
  },
  {
   "cell_type": "code",
   "execution_count": 20,
   "metadata": {},
   "outputs": [],
   "source": [
    "folder='C:\\\\Users\\\\Shubham\\\\Desktop\\\\Topcoder challenges\\\\edge net\\\\dataset\\\\sandals\\\\'\n",
    "for i in range(len(sandals)):\n",
    "    f = open(folder+str(i)+'.jpg','wb')\n",
    "    f.write(requests.get(sandals[i]).content)\n",
    "    f.close()"
   ]
  },
  {
   "cell_type": "markdown",
   "metadata": {},
   "source": [
    "## for flip flops"
   ]
  },
  {
   "cell_type": "code",
   "execution_count": 22,
   "metadata": {},
   "outputs": [],
   "source": [
    "from selenium import webdriver\n",
    "from bs4 import BeautifulSoup\n",
    "driver = webdriver.Chrome(\"C:\\\\Users\\\\Shubham\\\\Desktop\\\\Topcoder challenges\\\\edge net\\\\chromedriver_win32 (4)\\\\chromedriver\")\n",
    "num=40\n",
    "flip_flops=[]\n",
    "for i in range(1,num+1):\n",
    "    if i==1:\n",
    "        link='https://www.myntra.com/flip-flops?plaEnabled=false'\n",
    "    elif i>1:\n",
    "        link='https://www.myntra.com/flip-flops?p='+str(i)+'&plaEnabled=false'\n",
    "    driver.get(link)\n",
    "    content = driver.page_source\n",
    "    soup = BeautifulSoup(content,'html.parser')\n",
    "    images=soup.findAll('img', attrs={'class':'img-responsive'})\n",
    "    #soup = BeautifulSoup(content, 'html.parser')\n",
    "    for items in images:\n",
    "        flip_flops.append(items['src'])"
   ]
  },
  {
   "cell_type": "code",
   "execution_count": 23,
   "metadata": {},
   "outputs": [],
   "source": [
    "folder='C:\\\\Users\\\\Shubham\\\\Desktop\\\\Topcoder challenges\\\\edge net\\\\dataset\\\\flip flops\\\\'\n",
    "for i in range(len(flip_flops)):\n",
    "    f = open(folder+str(i)+'.jpg','wb')\n",
    "    f.write(requests.get(flip_flops[i]).content)\n",
    "    f.close()"
   ]
  },
  {
   "cell_type": "code",
   "execution_count": 24,
   "metadata": {},
   "outputs": [
    {
     "data": {
      "text/plain": [
       "440"
      ]
     },
     "execution_count": 24,
     "metadata": {},
     "output_type": "execute_result"
    }
   ],
   "source": [
    "len(flip_flops)"
   ]
  },
  {
   "cell_type": "markdown",
   "metadata": {},
   "source": [
    "## for soccer shoes"
   ]
  },
  {
   "cell_type": "code",
   "execution_count": 26,
   "metadata": {},
   "outputs": [],
   "source": [
    "from selenium import webdriver\n",
    "from bs4 import BeautifulSoup\n",
    "driver = webdriver.Chrome(\"C:\\\\Users\\\\Shubham\\\\Desktop\\\\Topcoder challenges\\\\edge net\\\\chromedriver_win32 (4)\\\\chromedriver\")\n",
    "num=40\n",
    "soccer_shoes=[]\n",
    "for i in range(1,num+1):\n",
    "    if i==1:\n",
    "        link='https://www.myntra.com/soccer-shoes?plaEnabled=false'\n",
    "    elif i>1:\n",
    "        link='https://www.myntra.com/soccer-shoes?p='+str(i)+'&plaEnabled=false'\n",
    "    driver.get(link)\n",
    "    content = driver.page_source\n",
    "    soup = BeautifulSoup(content,'html.parser')\n",
    "    images=soup.findAll('img', attrs={'class':'img-responsive'})\n",
    "    #soup = BeautifulSoup(content, 'html.parser')\n",
    "    for items in images:\n",
    "        soccer_shoes.append(items['src'])"
   ]
  },
  {
   "cell_type": "code",
   "execution_count": 27,
   "metadata": {},
   "outputs": [],
   "source": [
    "folder='C:\\\\Users\\\\Shubham\\\\Desktop\\\\Topcoder challenges\\\\edge net\\\\dataset\\\\soccer shoes\\\\'\n",
    "for i in range(len(soccer_shoes)):\n",
    "    f = open(folder+str(i)+'.jpg','wb')\n",
    "    f.write(requests.get(soccer_shoes[i]).content)\n",
    "    f.close()"
   ]
  },
  {
   "cell_type": "code",
   "execution_count": 28,
   "metadata": {},
   "outputs": [
    {
     "data": {
      "text/plain": [
       "156"
      ]
     },
     "execution_count": 28,
     "metadata": {},
     "output_type": "execute_result"
    }
   ],
   "source": [
    "len(soccer_shoes)"
   ]
  },
  {
   "cell_type": "code",
   "execution_count": null,
   "metadata": {},
   "outputs": [],
   "source": []
  }
 ],
 "metadata": {
  "kernelspec": {
   "display_name": "Python 3",
   "language": "python",
   "name": "python3"
  },
  "language_info": {
   "codemirror_mode": {
    "name": "ipython",
    "version": 3
   },
   "file_extension": ".py",
   "mimetype": "text/x-python",
   "name": "python",
   "nbconvert_exporter": "python",
   "pygments_lexer": "ipython3",
   "version": "3.9.5"
  }
 },
 "nbformat": 4,
 "nbformat_minor": 4
}
